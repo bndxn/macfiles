{
 "cells": [
  {
   "cell_type": "code",
   "execution_count": 2,
   "metadata": {},
   "outputs": [],
   "source": [
    "import numpy as np\n",
    "import pandas as pd\n",
    "import matplotlib.pyplot as plt"
   ]
  },
  {
   "cell_type": "code",
   "execution_count": 54,
   "metadata": {},
   "outputs": [
    {
     "data": {
      "text/html": [
       "<div>\n",
       "<style scoped>\n",
       "    .dataframe tbody tr th:only-of-type {\n",
       "        vertical-align: middle;\n",
       "    }\n",
       "\n",
       "    .dataframe tbody tr th {\n",
       "        vertical-align: top;\n",
       "    }\n",
       "\n",
       "    .dataframe thead th {\n",
       "        text-align: right;\n",
       "    }\n",
       "</style>\n",
       "<table border=\"1\" class=\"dataframe\">\n",
       "  <thead>\n",
       "    <tr style=\"text-align: right;\">\n",
       "      <th></th>\n",
       "      <th>2020</th>\n",
       "      <th>2019</th>\n",
       "      <th>2018</th>\n",
       "      <th>2017</th>\n",
       "      <th>2016</th>\n",
       "      <th>2015</th>\n",
       "      <th>2014</th>\n",
       "      <th>2013</th>\n",
       "      <th>2012</th>\n",
       "      <th>2011</th>\n",
       "    </tr>\n",
       "    <tr>\n",
       "      <th>Month</th>\n",
       "      <th></th>\n",
       "      <th></th>\n",
       "      <th></th>\n",
       "      <th></th>\n",
       "      <th></th>\n",
       "      <th></th>\n",
       "      <th></th>\n",
       "      <th></th>\n",
       "      <th></th>\n",
       "      <th></th>\n",
       "    </tr>\n",
       "  </thead>\n",
       "  <tbody>\n",
       "    <tr>\n",
       "      <th>Jan</th>\n",
       "      <td>35.72</td>\n",
       "      <td>60.84</td>\n",
       "      <td>49.80</td>\n",
       "      <td>52.86</td>\n",
       "      <td>36.32</td>\n",
       "      <td>39.31</td>\n",
       "      <td>47.16</td>\n",
       "      <td>48.65</td>\n",
       "      <td>NaN</td>\n",
       "      <td>NaN</td>\n",
       "    </tr>\n",
       "    <tr>\n",
       "      <th>Feb</th>\n",
       "      <td>30.62</td>\n",
       "      <td>50.18</td>\n",
       "      <td>51.15</td>\n",
       "      <td>49.19</td>\n",
       "      <td>33.37</td>\n",
       "      <td>42.94</td>\n",
       "      <td>44.81</td>\n",
       "      <td>51.14</td>\n",
       "      <td>NaN</td>\n",
       "      <td>NaN</td>\n",
       "    </tr>\n",
       "    <tr>\n",
       "      <th>Mar</th>\n",
       "      <td>31.69</td>\n",
       "      <td>44.30</td>\n",
       "      <td>57.03</td>\n",
       "      <td>41.92</td>\n",
       "      <td>34.23</td>\n",
       "      <td>40.45</td>\n",
       "      <td>44.07</td>\n",
       "      <td>60.24</td>\n",
       "      <td>NaN</td>\n",
       "      <td>NaN</td>\n",
       "    </tr>\n",
       "    <tr>\n",
       "      <th>Apr</th>\n",
       "      <td>24.18</td>\n",
       "      <td>43.55</td>\n",
       "      <td>50.70</td>\n",
       "      <td>41.07</td>\n",
       "      <td>33.48</td>\n",
       "      <td>44.11</td>\n",
       "      <td>41.29</td>\n",
       "      <td>51.96</td>\n",
       "      <td>NaN</td>\n",
       "      <td>NaN</td>\n",
       "    </tr>\n",
       "    <tr>\n",
       "      <th>May</th>\n",
       "      <td>22.17</td>\n",
       "      <td>41.36</td>\n",
       "      <td>53.29</td>\n",
       "      <td>41.11</td>\n",
       "      <td>34.40</td>\n",
       "      <td>40.46</td>\n",
       "      <td>39.50</td>\n",
       "      <td>48.26</td>\n",
       "      <td>NaN</td>\n",
       "      <td>NaN</td>\n",
       "    </tr>\n",
       "  </tbody>\n",
       "</table>\n",
       "</div>"
      ],
      "text/plain": [
       "        2020   2019   2018   2017   2016   2015   2014   2013  2012  2011\n",
       "Month                                                                    \n",
       "Jan    35.72  60.84  49.80  52.86  36.32  39.31  47.16  48.65   NaN   NaN\n",
       "Feb    30.62  50.18  51.15  49.19  33.37  42.94  44.81  51.14   NaN   NaN\n",
       "Mar    31.69  44.30  57.03  41.92  34.23  40.45  44.07  60.24   NaN   NaN\n",
       "Apr    24.18  43.55  50.70  41.07  33.48  44.11  41.29  51.96   NaN   NaN\n",
       "May    22.17  41.36  53.29  41.11  34.40  40.46  39.50  48.26   NaN   NaN"
      ]
     },
     "execution_count": 54,
     "metadata": {},
     "output_type": "execute_result"
    }
   ],
   "source": [
    "df = pd.read_csv('N2EX_Day_Ahead.csv', header=1, decimal=',')\n",
    "\n",
    "# Tidy up\n",
    "df = df.rename(columns={'Unnamed: 0': \"Month\"})\n",
    "df = df.set_index('Month')\n",
    "\n",
    "df.head()"
   ]
  },
  {
   "cell_type": "code",
   "execution_count": 55,
   "metadata": {},
   "outputs": [
    {
     "data": {
      "text/plain": [
       "numpy.float64"
      ]
     },
     "execution_count": 55,
     "metadata": {},
     "output_type": "execute_result"
    }
   ],
   "source": [
    "type(df.iloc[1,0]) # Yeah everything is here as a string"
   ]
  },
  {
   "cell_type": "code",
   "execution_count": 74,
   "metadata": {},
   "outputs": [
    {
     "data": {
      "text/plain": [
       "<matplotlib.axes._subplots.AxesSubplot at 0x7fe759a7fa60>"
      ]
     },
     "execution_count": 74,
     "metadata": {},
     "output_type": "execute_result"
    },
    {
     "data": {
      "image/png": "[encoded data removed]",
      "text/plain": [
       "<Figure size 432x288 with 1 Axes>"
      ]
     },
     "metadata": {
      "needs_background": "light"
     },
     "output_type": "display_data"
    }
   ],
   "source": [
    "df = df.iloc[:,0:5]\n",
    "df.plot(title='UK energy prices in GBP per MWh Day prices by year') "
   ]
  },
  {
   "cell_type": "code",
   "execution_count": 70,
   "metadata": {},
   "outputs": [],
   "source": [
    "means = df.iloc[:,:].mean()"
   ]
  },
  {
   "cell_type": "code",
   "execution_count": 73,
   "metadata": {},
   "outputs": [
    {
     "data": {
      "text/plain": [
       "<matplotlib.axes._subplots.AxesSubplot at 0x7fe759929ca0>"
      ]
     },
     "execution_count": 73,
     "metadata": {},
     "output_type": "execute_result"
    },
    {
     "data": {
      "image/png": "[encoded data removed]",
      "text/plain": [
       "<Figure size 432x288 with 1 Axes>"
      ]
     },
     "metadata": {
      "needs_background": "light"
     },
     "output_type": "display_data"
    }
   ],
   "source": [
    "means.plot.bar()"
   ]
  }
 ],
 "metadata": {
  "kernelspec": {
   "display_name": "Python 3",
   "language": "python",
   "name": "python3"
  },
  "language_info": {
   "codemirror_mode": {
    "name": "ipython",
    "version": 3
   },
   "file_extension": ".py",
   "mimetype": "text/x-python",
   "name": "python",
   "nbconvert_exporter": "python",
   "pygments_lexer": "ipython3",
   "version": "3.8.3"
  }
 },
 "nbformat": 4,
 "nbformat_minor": 4
}
